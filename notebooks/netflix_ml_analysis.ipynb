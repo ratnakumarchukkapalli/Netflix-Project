{
 "cells": [
  {
   "cell_type": "markdown",
   "id": "a500f983",
   "metadata": {},
   "source": [
    "# Netflix Viewing History - Machine Learning Analysis\n",
    "\n",
    "In this notebook, we'll apply various machine learning techniques to analyze Netflix viewing patterns:\n",
    "1. Content-based recommendation system\n",
    "2. Viewing pattern clustering\n",
    "3. Next viewing time prediction\n",
    "4. Binge-watching analysis"
   ]
  },
  {
   "cell_type": "code",
   "execution_count": null,
   "id": "5af0e612",
   "metadata": {},
   "outputs": [],
   "source": [
    "# Import required libraries\n",
    "import pandas as pd\n",
    "import numpy as np\n",
    "import matplotlib.pyplot as plt\n",
    "import seaborn as sns\n",
    "from datetime import datetime\n",
    "\n",
    "# Import our ML module\n",
    "import sys\n",
    "sys.path.append('../src')\n",
    "from ml_models import NetflixMLAnalyzer\n",
    "\n",
    "# Configure plotting\n",
    "%matplotlib inline\n",
    "plt.style.use('default')\n",
    "sns.set_theme()\n",
    "\n",
    "# Load and prepare data\n",
    "df = pd.read_csv('../data/NetflixViewingHistory.csv')\n",
    "df['Date'] = pd.to_datetime(df['Date'])\n",
    "\n",
    "# Initialize our ML analyzer\n",
    "ml_analyzer = NetflixMLAnalyzer()"
   ]
  },
  {
   "cell_type": "markdown",
   "id": "86cae640",
   "metadata": {},
   "source": [
    "## 1. Content-Based Recommendation System\n",
    "\n",
    "We'll start with a simple recommendation system that suggests similar content based on titles you've watched."
   ]
  },
  {
   "cell_type": "code",
   "execution_count": null,
   "id": "f62df040",
   "metadata": {},
   "outputs": [],
   "source": [
    "# Get your most recently watched show\n",
    "latest_show = df.sort_values('Date', ascending=False).iloc[0]['Title']\n",
    "print(f\"Finding shows similar to: {latest_show}\\n\")\n",
    "\n",
    "# Get recommendations\n",
    "similar_shows = ml_analyzer.find_similar_content(df, latest_show)\n",
    "print(\"Recommended shows based on your recent watching:\")\n",
    "print(similar_shows)"
   ]
  },
  {
   "cell_type": "markdown",
   "id": "99f02d66",
   "metadata": {},
   "source": [
    "## 2. Viewing Pattern Clustering\n",
    "\n",
    "Next, we'll use K-means clustering to identify patterns in your viewing behavior."
   ]
  },
  {
   "cell_type": "code",
   "execution_count": null,
   "id": "1114089c",
   "metadata": {},
   "outputs": [],
   "source": [
    "# Perform clustering\n",
    "clusters = ml_analyzer.cluster_viewing_patterns(df)\n",
    "\n",
    "# Add clusters to dataframe for visualization\n",
    "df['Cluster'] = clusters\n",
    "\n",
    "# Visualize clusters\n",
    "plt.figure(figsize=(12, 6))\n",
    "for cluster in range(4):\n",
    "    cluster_data = df[df['Cluster'] == cluster]\n",
    "    plt.scatter(cluster_data['Date'].dt.hour,\n",
    "               cluster_data['Date'].dt.dayofweek,\n",
    "               label=f'Cluster {cluster}',\n",
    "               alpha=0.6)\n",
    "\n",
    "plt.title('Viewing Pattern Clusters')\n",
    "plt.xlabel('Hour of Day')\n",
    "plt.ylabel('Day of Week')\n",
    "plt.legend()\n",
    "plt.grid(True)\n",
    "plt.show()"
   ]
  },
  {
   "cell_type": "markdown",
   "id": "e1a57c2a",
   "metadata": {},
   "source": [
    "## 3. Viewing Time Prediction\n",
    "\n",
    "Now we'll predict when you're most likely to watch Netflix based on your history."
   ]
  },
  {
   "cell_type": "code",
   "execution_count": null,
   "id": "4a147e9e",
   "metadata": {},
   "outputs": [],
   "source": [
    "# Get viewing time predictions\n",
    "predictions = ml_analyzer.predict_next_viewing_time(df)\n",
    "\n",
    "# Print predictions\n",
    "days = ['Monday', 'Tuesday', 'Wednesday', 'Thursday', 'Friday', 'Saturday', 'Sunday']\n",
    "print(f\"Most likely viewing day: {days[predictions['most_likely_day']]}\")\n",
    "print(f\"Most likely viewing hour: {predictions['most_likely_hour']}:00\")\n",
    "\n",
    "# Visualize hourly probabilities\n",
    "plt.figure(figsize=(12, 6))\n",
    "predictions['hour_probabilities'].plot(kind='bar')\n",
    "plt.title('Probability of Watching by Hour')\n",
    "plt.xlabel('Hour of Day')\n",
    "plt.ylabel('Probability')\n",
    "plt.tight_layout()\n",
    "plt.show()"
   ]
  },
  {
   "cell_type": "markdown",
   "id": "5e614799",
   "metadata": {},
   "source": [
    "## 4. Binge-Watching Analysis\n",
    "\n",
    "Finally, let's analyze your binge-watching patterns."
   ]
  },
  {
   "cell_type": "code",
   "execution_count": null,
   "id": "3e444d12",
   "metadata": {},
   "outputs": [],
   "source": [
    "# Analyze binge-watching patterns\n",
    "binge_analysis = ml_analyzer.analyze_binge_patterns(df)\n",
    "\n",
    "print(f\"Binge-watching ratio: {binge_analysis['binge_ratio']:.2%}\")\n",
    "print(\"\\nTop shows you've binged:\")\n",
    "print(binge_analysis['top_binged_shows'])\n",
    "print(f\"\\nAverage binge session length: {binge_analysis['average_session_length']} episodes\")"
   ]
  }
 ],
 "metadata": {
  "language_info": {
   "name": "python"
  }
 },
 "nbformat": 4,
 "nbformat_minor": 5
}
